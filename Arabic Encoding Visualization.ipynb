{
 "cells": [
  {
   "cell_type": "code",
   "execution_count": 206,
   "metadata": {},
   "outputs": [],
   "source": [
    "import arabic_reshaper\n",
    "from Utils import load_csv_dataset,construct_count_array, load_model\n",
    "from ConfigParser import ConfigsLoader\n",
    "from Models.DeepCLCNN import DeepCLCNN\n",
    "from Models.DeepCLCNNwithWL import  DeepCLCNNwithWL\n",
    "from Models.DeepNoPoolingCLCNN import  DeepNoPoolingCLCNN\n",
    "from Models.DeepNoPoolingCLCNNwithWT import DeepNoPoolingCLCNNwithWT\n",
    "from Models.DeepCLCNNNoEncoder import DeepCLCNNNoEncoder\n",
    "from Models.DeepCLCNNwithWLNoEncoder import DeepCLCNNwithWLNoEncoder\n",
    "from Models.DeepNoPoolingCLCNNNoEncoder import DeepNoPoolingCLCNNNoEncoder\n",
    "from Models.DeepNoPoolingCLCNNwithWTNoEncoder import DeepNoPoolingCLCNNwithWTNoEncoder\n",
    "from DatasetLoaderFactory import ObjectFactory, WikipediaTitleDatasetLoader, PoetryDatasetLoader, DialectDatasetLoader\n",
    "import numpy as np\n",
    "from Transformations import TextProcessor\n",
    "import torch.nn as nn\n",
    "from PIL import (\n",
    "    Image,\n",
    "    ImageDraw,\n",
    "    ImageFont,\n",
    ")\n",
    "import matplotlib.pyplot as plt\n",
    "import torch\n",
    "from sklearn.neighbors import NearestNeighbors\n",
    "from pprint import pprint\n",
    "from sklearn.manifold import TSNE\n",
    "\n",
    "from matplotlib.offsetbox import (\n",
    "    OffsetImage,\n",
    "    AnnotationBbox\n",
    ")\n",
    "\n"
   ]
  },
  {
   "cell_type": "code",
   "execution_count": 207,
   "metadata": {},
   "outputs": [],
   "source": [
    "sentence = \"\"\"\n",
    "تتمحور المسيحية في تعاليمها حول الكتاب المقدس، وبشكل خاص يسوع، الذي هو في العقيدة متمم النبؤات المنتظر، وابن الله المتجسد؛ الذي قدّم في العهد الجديد ذروة التعاليم الاجتماعية والأخلاقية، وأيّد أقواله بمعجزاته؛ وكان مخلّص العالم بموته وقيامته، والوسيط الوحيد بين الله والبشر؛ وينتظر معظم المسيحيين مجيئه الثاني، الذي يختم بقيامة الموتى، حيث يثيب الله الأبرار والصالحين بملكوت أبدي سعيد.\n",
    "\n",
    "يؤمن المسيحيون أن يسوع هو حي في السماء، وأن جسده بحالة ممجدة فيها، وأنه سيعود في آخر الزمان ليقيم حكمًا ألفيًا يبلغ فيه الملكوت ذروته وينتهي بقيامة الموتى وانفتاح العالم المؤقت والفاني على الأبدية والخلود. هذا الملكوت، قد افتتح عن مجيء المسيح الأول وهو مستمر بأشكال جزئيّة داخل الكنيسة وخارجها، حتى تمام الاعتلان الإلهي في آخر الأزمنة. يعتقد المسيحيون أيضًا، أن يسوع هو بكر القائمين من بين الأموات، وقد عزّا بموته الإنسان وفتح أبواب الهاوية - وتترجم أيضًا القبر وهي مكان انتظار الأرواح بعد موتها - وبذلك غدا الإنسان بحالة روحية إما يتعذب تكفيرًا أو يتنعم اتحادًا مع الله فيما يشبه نعيم الأرواح، وهذا هو رأي الكنيسة الكاثوليكية وأغلب الكنائس البروتستانتية؛ وانطلاقًا من ذلك، يدعى المخلص، إذ به كما يقول الكتاب المقدس قد صالح الله البشرية مع نفسه، وألغى بقيامته المفاعيل الروحية لسقوط الإنسان، وأعاد بنوّة البشر لله، فيما يعرف بسر الفداء، أما المفاعيل الجسدية للسقوط أي الموت والألم والشر فستنتهي مع المجيء الثاني تزامنًا مع اكتمال البشرية التي أعدّها الله من قبل تأسيس العالم.\n",
    "\n",
    "يظهر الثالوث مجتمعًا في مواضع عدة من العهد الجديد أشهرها عند عماد يسوع في متى 4/ 16-17 فبينما كان المسيح يعتمد هبط الروح القدس بشكل طائر الحمام في حين سمع صوت الآب من السماء. بعض المفسرين وآباء الكنيسة يشيرون إلى أن الثالوث الأقدس قد ذكر أيضًا في العهد القديم بشكل أو بآخر، كاستخدام لفظ الجمع ألوهيم للإشارة إلى الله، واستخدام الله لصيغة الجمع في اللغة العبرية للدلالة على ذاته ما يفترض وجود ثالوث.\n",
    "\n",
    "\n",
    "الأقنوم الأول هو الآب ويمكن القول أنه الصورة التقليدية للالله، ويقدم الكتاب المقدس عددًا كبيرًا من صفاته. (انظر الثالوث الأقدس للاستزادة) أصل المصطلح يأتي من أن يسوع قد ناداه “الآب السماوي” وكذلك القديس بولس حين اعتبره “أب واحد لجميعنا.”[روما 15/8]\n",
    "\n",
    "الأقنوم الثاني هو الابن ويطلق عليه أيضًا اسم الكلمة والحمل وهو: لم يعتبر مساواته بالله خلسة أو غنيمة يتمسك بها، بل أخلى ذاته متخذًا صورة عبد صائرًا شبيهًا بالبشر.[فيلمون 6/2] ودعي حين اتخذ جسدًا يسوع المسيح، وهو الذي تنبأ عنه جميع أنبياء العهد القديم من قبل. ألوهة يسوع يمكن استنباطها من مواضع عديدة في الكتاب المقدس، فهو قال في إنجيل يوحنا: أنا والآب واحد.[يوحنا 30/10] ومن رآه قد رأى الذي أرسله.[يوحنا 44/12] كذلك فإن أنبياء العهد القديم أشاروا إلى \"التجسد الإلهي\": يولد لنا ولدًا، ونعطى ابنًا، وتكون الرئاسة على كتفه ويدعى اسمه عجيبًا مشيرًا إلهًا قديرًا أبًا أبديًا رئيس السلام.[أشعياء 6/9] يسوع ليس فقط هو الابن بل هو أيضًا الماشيح (عربت لاحقًا إلى \"مسيح\") الذي ينتظره اليهود، فهو كاهن ونبي وملك. (انظر الثالوث الأقدس للاستزادة)\n",
    "\"\"\""
   ]
  },
  {
   "cell_type": "code",
   "execution_count": 208,
   "metadata": {},
   "outputs": [],
   "source": [
    "m_sentence = arabic_reshaper.reshape(sentence)"
   ]
  },
  {
   "cell_type": "code",
   "execution_count": 209,
   "metadata": {},
   "outputs": [],
   "source": [
    "m_sentence_set = set(sorted(list(m_sentence)))\n",
    "m_sentence_set = list(m_sentence_set)\n",
    "m_sentence_set.sort()\n",
    "m_sentence_set = m_sentence_set[25:-1]\n",
    "m_sentence_set = set(m_sentence_set)"
   ]
  },
  {
   "cell_type": "code",
   "execution_count": 210,
   "metadata": {},
   "outputs": [
    {
     "data": {
      "text/plain": [
       "108"
      ]
     },
     "execution_count": 210,
     "metadata": {},
     "output_type": "execute_result"
    }
   ],
   "source": [
    "len(m_sentence_set)"
   ]
  },
  {
   "cell_type": "code",
   "execution_count": 211,
   "metadata": {},
   "outputs": [
    {
     "data": {
      "text/plain": [
       "{'ﷲ',\n",
       " 'ﺀ',\n",
       " 'ﺁ',\n",
       " 'ﺂ',\n",
       " 'ﺃ',\n",
       " 'ﺄ',\n",
       " 'ﺆ',\n",
       " 'ﺇ',\n",
       " 'ﺈ',\n",
       " 'ﺋ',\n",
       " 'ﺌ',\n",
       " 'ﺍ',\n",
       " 'ﺎ',\n",
       " 'ﺏ',\n",
       " 'ﺐ',\n",
       " 'ﺑ',\n",
       " 'ﺒ',\n",
       " 'ﺓ',\n",
       " 'ﺔ',\n",
       " 'ﺕ',\n",
       " 'ﺖ',\n",
       " 'ﺗ',\n",
       " 'ﺘ',\n",
       " 'ﺙ',\n",
       " 'ﺚ',\n",
       " 'ﺛ',\n",
       " 'ﺜ',\n",
       " 'ﺟ',\n",
       " 'ﺠ',\n",
       " 'ﺡ',\n",
       " 'ﺢ',\n",
       " 'ﺣ',\n",
       " 'ﺤ',\n",
       " 'ﺧ',\n",
       " 'ﺨ',\n",
       " 'ﺩ',\n",
       " 'ﺪ',\n",
       " 'ﺫ',\n",
       " 'ﺬ',\n",
       " 'ﺭ',\n",
       " 'ﺮ',\n",
       " 'ﺯ',\n",
       " 'ﺰ',\n",
       " 'ﺱ',\n",
       " 'ﺲ',\n",
       " 'ﺳ',\n",
       " 'ﺴ',\n",
       " 'ﺷ',\n",
       " 'ﺸ',\n",
       " 'ﺹ',\n",
       " 'ﺺ',\n",
       " 'ﺻ',\n",
       " 'ﺼ',\n",
       " 'ﺽ',\n",
       " 'ﺾ',\n",
       " 'ﺿ',\n",
       " 'ﻀ',\n",
       " 'ﻁ',\n",
       " 'ﻂ',\n",
       " 'ﻃ',\n",
       " 'ﻄ',\n",
       " 'ﻆ',\n",
       " 'ﻈ',\n",
       " 'ﻉ',\n",
       " 'ﻊ',\n",
       " 'ﻋ',\n",
       " 'ﻌ',\n",
       " 'ﻎ',\n",
       " 'ﻏ',\n",
       " 'ﻐ',\n",
       " 'ﻑ',\n",
       " 'ﻓ',\n",
       " 'ﻔ',\n",
       " 'ﻖ',\n",
       " 'ﻗ',\n",
       " 'ﻘ',\n",
       " 'ﻚ',\n",
       " 'ﻛ',\n",
       " 'ﻜ',\n",
       " 'ﻝ',\n",
       " 'ﻞ',\n",
       " 'ﻟ',\n",
       " 'ﻠ',\n",
       " 'ﻡ',\n",
       " 'ﻢ',\n",
       " 'ﻣ',\n",
       " 'ﻤ',\n",
       " 'ﻥ',\n",
       " 'ﻦ',\n",
       " 'ﻧ',\n",
       " 'ﻨ',\n",
       " 'ﻩ',\n",
       " 'ﻪ',\n",
       " 'ﻫ',\n",
       " 'ﻬ',\n",
       " 'ﻭ',\n",
       " 'ﻮ',\n",
       " 'ﻯ',\n",
       " 'ﻰ',\n",
       " 'ﻱ',\n",
       " 'ﻲ',\n",
       " 'ﻳ',\n",
       " 'ﻴ',\n",
       " 'ﻵ',\n",
       " 'ﻷ',\n",
       " 'ﻹ',\n",
       " 'ﻺ',\n",
       " 'ﻻ'}"
      ]
     },
     "execution_count": 211,
     "metadata": {},
     "output_type": "execute_result"
    }
   ],
   "source": [
    "m_sentence_set"
   ]
  },
  {
   "cell_type": "code",
   "execution_count": 212,
   "metadata": {},
   "outputs": [],
   "source": [
    "def build_model(current_network, configs, out_dim):\n",
    "    factory = ObjectFactory()\n",
    "    factory.register_builder(\"DeepCLCNN\",DeepCLCNN)\n",
    "    factory.register_builder(\"DeepCLCNNwithWL\",DeepCLCNNwithWL)\n",
    "    factory.register_builder(\"DeepNoPoolingCLCNN\",DeepNoPoolingCLCNN)\n",
    "    factory.register_builder(\"DeepNoPoolingCLCNNwithWT\",DeepNoPoolingCLCNNwithWT)\n",
    "\n",
    "    factory.register_builder(\"DeepCLCNNNoEncoder\",DeepCLCNNNoEncoder)\n",
    "    factory.register_builder(\"DeepCLCNNwithWLNoEncoder\",DeepCLCNNwithWLNoEncoder)\n",
    "    factory.register_builder(\"DeepNoPoolingCLCNNNoEncoder\",DeepNoPoolingCLCNNNoEncoder)\n",
    "    factory.register_builder(\"DeepNoPoolingCLCNNwithWTNoEncoder\",DeepNoPoolingCLCNNwithWTNoEncoder)\n",
    "\n",
    "    model = factory.create(current_network, **{'configParser':configs, 'out_dim':out_dim})\n",
    "    return model\n"
   ]
  },
  {
   "cell_type": "code",
   "execution_count": 213,
   "metadata": {},
   "outputs": [],
   "source": [
    "def load_image_dataset(chars_file_name, char_df_colNames, current_dataset, configs, target_column, textProcessor):\n",
    "    chars_df = load_csv_dataset(chars_file_name, \",\", char_df_colNames)\n",
    "    factory = ObjectFactory()\n",
    "    factory.register_builder(\"Wikipedia_Title_Dataset\", WikipediaTitleDatasetLoader)\n",
    "    factory.register_builder(\"Poetry_Dataset\", PoetryDatasetLoader)\n",
    "    factory.register_builder(\"Dialect_Dataset\", DialectDatasetLoader)\n",
    "    data_loader = factory.create(current_dataset, **{'configParser': configs})\n",
    "    data_loader.read_dataset_from_file()\n",
    "    data_loader.preprocess_dataset()\n",
    "    training_data_raw, testing_data_raw = data_loader.get_data()\n",
    "    if do_preprocessing:\n",
    "        training_data_raw = text_cleaner.clean_text( training_data_raw )\n",
    "        testing_data_raw = text_cleaner.clean_text( testing_data_raw )\n",
    "    label_list = sorted(list(set(training_data_raw[target_column])))\n",
    "    counts = construct_count_array(training_data_raw[target_column])\n",
    "    labels = training_data_raw[target_column]\n",
    "    number_of_classes = np.size(np.unique(labels))\n",
    "    X_train, y_train = textProcessor.split_data_x_y(training_data_raw)\n",
    "    X_test, y_test = textProcessor.split_data_x_y(testing_data_raw)\n",
    "\n",
    "    training_data = textProcessor.numpy_pair_to_pytorch_dataset(X_train, y_train, chars_df)\n",
    "    testing_data = textProcessor.numpy_pair_to_pytorch_dataset(X_test, y_test, chars_df)\n",
    "    print(label_list)\n",
    "    return training_data, testing_data, label_list\n"
   ]
  },
  {
   "cell_type": "code",
   "execution_count": 214,
   "metadata": {},
   "outputs": [],
   "source": [
    "def load_font(fntFile, font_size):\n",
    "    fnt = ImageFont.truetype(fntFile, font_size,encoding='utf-8')\n",
    "    return fnt"
   ]
  },
  {
   "cell_type": "code",
   "execution_count": 157,
   "metadata": {},
   "outputs": [],
   "source": [
    "def draw_image(char, W, H, fnt):\n",
    "    img = Image.new('L', (W, H),  \"black\")\n",
    "    #print(img)\n",
    "    d = ImageDraw.Draw(img)\n",
    "    #print(char)\n",
    "    if char is not None:\n",
    "        w, h = d.textsize(char, font=fnt)\n",
    "        d.text(((W-w)/2,(H-h)/2), str(char), font=fnt, fill=\"#fff\")\n",
    "    img = np.asarray(img)\n",
    "    #print(img.shape)\n",
    "    #print(img.reshape(img.shape[0]*img.shape[1]))\n",
    "    #plt.imshow(img, cmap='Greys')\n",
    "    img = img * (1.0 / 255.0)\n",
    "    return img\n"
   ]
  },
  {
   "cell_type": "code",
   "execution_count": 158,
   "metadata": {},
   "outputs": [],
   "source": [
    "\n",
    "def char_to_font_img(char,fnt):\n",
    "    img_size = np.ceil(np.array(fnt.getsize(char)) * 1.1).astype(int)\n",
    "\n",
    "    img = Image.new(\"L\", tuple(img_size), \"black\")\n",
    "    draw = ImageDraw.Draw(img)\n",
    "    text_offset = (img_size - fnt.getsize(char)) // 2\n",
    "    draw.text(text_offset, char, font=fnt, fill=\"#fff\")\n",
    "\n",
    "    return img\n"
   ]
  },
  {
   "cell_type": "code",
   "execution_count": 159,
   "metadata": {},
   "outputs": [],
   "source": [
    "def resize_font_img(img):\n",
    "    \n",
    "    arr = np.array(img)\n",
    "    r, c = np.where(arr != 0)\n",
    "    r.sort()\n",
    "    c.sort()\n",
    "\n",
    "    if len(r) == 0:\n",
    "        b = np.zeros((FONT_SIZE, FONT_SIZE))\n",
    "    else:\n",
    "        top = r[0]\n",
    "        bottom = r[-1]\n",
    "        left = c[0]\n",
    "        right = c[-1]\n",
    "\n",
    "        # trim character\n",
    "        c_arr = arr[top:bottom, left:right]\n",
    "        b = np.zeros((FONT_SIZE, FONT_SIZE), dtype=c_arr.dtype)\n",
    "        r_offset = int((b.shape[0] - c_arr.shape[0]) / 2)\n",
    "        c_offset = int((b.shape[1] - c_arr.shape[1]) / 2)\n",
    "        b[r_offset:r_offset + c_arr.shape[0], c_offset:c_offset + c_arr.shape[1]] = c_arr\n",
    "\n",
    "    return b\n"
   ]
  },
  {
   "cell_type": "code",
   "execution_count": 160,
   "metadata": {},
   "outputs": [],
   "source": [
    "def show_image(img):\n",
    "    print(img.shape)\n",
    "    print(img.reshape(img.shape[0]*img.shape[1]))\n",
    "    plt.imshow(img, cmap='Greys')\n"
   ]
  },
  {
   "cell_type": "code",
   "execution_count": 161,
   "metadata": {},
   "outputs": [],
   "source": [
    "fileName = \"Configs.ini\"\n",
    "configLoader = ConfigsLoader(fileName)\n",
    "configs = configLoader.get_configs()\n",
    "textProcessor = TextProcessor(configs)"
   ]
  },
  {
   "cell_type": "code",
   "execution_count": 162,
   "metadata": {},
   "outputs": [],
   "source": [
    "col_names = configs.get(\"DATA\",\"col_names\")\n",
    "limit_data = configs.getboolean(\"DEBUG\",\"limit_data\")\n",
    "data_limit = configs.getint(\"DEBUG\",\"data_limit\")\n",
    "current_dataset = configs.get(\"DATA\",\"current_dataset\")\n",
    "target_column = configs.get(\"DATA\",\"target_column\")\n",
    "do_preprocessing = configs.getboolean(\"PREPROCESSING\",\"do_preprocessing\")\n",
    "loss_function_name = configs.get(\"TRAINING\",\"loss_function\")\n",
    "balanced_loss = configs.getboolean(\"TRAINING\",\"balanced_loss\")\n",
    "chars_file_name = configs.get(\"DATA\",\"chars_csv_file_name\")\n",
    "char_df_colNames = [configs.get(\"DATA\",\"char_df_column\")]\n",
    "device_id = configs.get(\"TRAINING\",\"device_id\")\n",
    "current_network  = configs.get(\"ARCHITECTURE\",\"current_network\")\n",
    "trainer_logs_out = configs.get(\"TRAINING\",\"trainer_logs\")        \n",
    "image_width = configs.getint(\"TEXT_TRANSFORMATION\",\"image_width\")\n",
    "image_height = configs.getint(\"TEXT_TRANSFORMATION\",\"image_height\")\n",
    "font_size = configs.getint(\"TEXT_TRANSFORMATION\",\"font_size\")\n",
    "fntFile = configs.get(\"DATA\",\"font_file\")\n",
    "image_width = configs.getint(\"TEXT_TRANSFORMATION\",\"image_width\")\n",
    "image_height = configs.getint(\"TEXT_TRANSFORMATION\",\"image_height\")\n",
    "font_size = configs.getint(\"TEXT_TRANSFORMATION\",\"font_size\")\n",
    "fntFile = configs.get(\"DATA\",\"font_file\")\n",
    "\n",
    "model_file = trainer_logs_out + '/checkpoint/ckpt.t7'"
   ]
  },
  {
   "cell_type": "code",
   "execution_count": 163,
   "metadata": {},
   "outputs": [
    {
     "name": "stdout",
     "output_type": "stream",
     "text": [
      "Training dataset file: \n",
      "/data/daif/Arabic-Document-Classification/Deep_learning/data/multiclasspoetry_training.csv\n",
      "Testing dataset file: \n",
      "/data/daif/Arabic-Document-Classification/Deep_learning/data/multiclasspoetry_testing.csv\n",
      "[0, 1, 2, 3, 4]\n"
     ]
    }
   ],
   "source": [
    "training_data, testing_data, label_list = load_image_dataset(chars_file_name,char_df_colNames, current_dataset, configs, target_column, textProcessor)\n",
    "model = build_model(current_network,configs,  len(label_list)).cuda()  \n"
   ]
  },
  {
   "cell_type": "code",
   "execution_count": 164,
   "metadata": {},
   "outputs": [
    {
     "name": "stdout",
     "output_type": "stream",
     "text": [
      "Now loadinng the model \n",
      "Accuracy,  70.01090512540894\n",
      "epoch,  39\n"
     ]
    }
   ],
   "source": [
    "model = load_model(model_file, nn.DataParallel(model))"
   ]
  },
  {
   "cell_type": "code",
   "execution_count": 165,
   "metadata": {},
   "outputs": [
    {
     "data": {
      "text/plain": [
       "'DeepCLCNNwithWL'"
      ]
     },
     "execution_count": 165,
     "metadata": {},
     "output_type": "execute_result"
    }
   ],
   "source": [
    "current_network"
   ]
  },
  {
   "cell_type": "code",
   "execution_count": 166,
   "metadata": {},
   "outputs": [
    {
     "data": {
      "text/plain": [
       "DataParallel(\n",
       "  (module): DeepCLCNNwithWL(\n",
       "    (encoder): CharacterEncoder(\n",
       "      (conv1): Conv2d(1, 32, kernel_size=(3, 3), stride=(1, 1))\n",
       "      (conv2): Conv2d(32, 32, kernel_size=(3, 3), stride=(1, 1))\n",
       "      (conv3): Conv2d(32, 32, kernel_size=(3, 3), stride=(1, 1))\n",
       "      (fc1): Linear(in_features=800, out_features=128, bias=True)\n",
       "      (fc2): Linear(in_features=128, out_features=128, bias=True)\n",
       "      (pool1): MaxPool2d(kernel_size=2, stride=2, padding=0, dilation=1, ceil_mode=False)\n",
       "      (pool2): MaxPool2d(kernel_size=2, stride=2, padding=0, dilation=1, ceil_mode=False)\n",
       "    )\n",
       "    (conv1): Conv1d(128, 512, kernel_size=(3,), stride=(1,))\n",
       "    (conv2): Conv1d(512, 512, kernel_size=(3,), stride=(1,))\n",
       "    (conv3): Conv1d(512, 512, kernel_size=(3,), stride=(1,))\n",
       "    (conv4): Conv1d(512, 512, kernel_size=(3,), stride=(1,))\n",
       "    (pool1): MaxPool1d(kernel_size=3, stride=3, padding=0, dilation=1, ceil_mode=False)\n",
       "    (pool2): MaxPool1d(kernel_size=3, stride=3, padding=0, dilation=1, ceil_mode=False)\n",
       "    (fc1): Linear(in_features=4608, out_features=1024, bias=True)\n",
       "    (fc2): Linear(in_features=1024, out_features=5, bias=True)\n",
       "  )\n",
       ")"
      ]
     },
     "execution_count": 166,
     "metadata": {},
     "output_type": "execute_result"
    }
   ],
   "source": [
    "model"
   ]
  },
  {
   "cell_type": "code",
   "execution_count": 167,
   "metadata": {},
   "outputs": [
    {
     "data": {
      "text/plain": [
       "CharacterEncoder(\n",
       "  (conv1): Conv2d(1, 32, kernel_size=(3, 3), stride=(1, 1))\n",
       "  (conv2): Conv2d(32, 32, kernel_size=(3, 3), stride=(1, 1))\n",
       "  (conv3): Conv2d(32, 32, kernel_size=(3, 3), stride=(1, 1))\n",
       "  (fc1): Linear(in_features=800, out_features=128, bias=True)\n",
       "  (fc2): Linear(in_features=128, out_features=128, bias=True)\n",
       "  (pool1): MaxPool2d(kernel_size=2, stride=2, padding=0, dilation=1, ceil_mode=False)\n",
       "  (pool2): MaxPool2d(kernel_size=2, stride=2, padding=0, dilation=1, ceil_mode=False)\n",
       ")"
      ]
     },
     "execution_count": 167,
     "metadata": {},
     "output_type": "execute_result"
    }
   ],
   "source": [
    "model.module.encoder"
   ]
  },
  {
   "cell_type": "code",
   "execution_count": 168,
   "metadata": {},
   "outputs": [],
   "source": [
    "fnt = load_font(fntFile, font_size)"
   ]
  },
  {
   "cell_type": "code",
   "execution_count": 169,
   "metadata": {},
   "outputs": [],
   "source": [
    "FONT_SIZE = 36\n",
    "FONT_NAME = fntFile\n",
    "FONT = ImageFont.truetype(\n",
    "    font=FONT_NAME,\n",
    "    size=int(FONT_SIZE * 0.85),\n",
    "    encoding=\"utf-8\"\n",
    ")\n"
   ]
  },
  {
   "cell_type": "code",
   "execution_count": 170,
   "metadata": {},
   "outputs": [],
   "source": [
    "char_imge = draw_image(arabic_reshaper.reshape(\"أ\"),image_width, image_height, fnt )"
   ]
  },
  {
   "cell_type": "code",
   "execution_count": 171,
   "metadata": {},
   "outputs": [
    {
     "data": {
      "text/plain": [
       "PIL.ImageFont.FreeTypeFont"
      ]
     },
     "execution_count": 171,
     "metadata": {},
     "output_type": "execute_result"
    }
   ],
   "source": [
    "type(fnt)"
   ]
  },
  {
   "cell_type": "code",
   "execution_count": null,
   "metadata": {},
   "outputs": [],
   "source": []
  },
  {
   "cell_type": "code",
   "execution_count": 172,
   "metadata": {},
   "outputs": [
    {
     "name": "stdout",
     "output_type": "stream",
     "text": [
      "(36, 36)\n",
      "[0 0 0 ... 0 0 0]\n"
     ]
    },
    {
     "data": {
      "image/png": "[encoded data removed]",
      "text/plain": [
       "<Figure size 432x288 with 1 Axes>"
      ]
     },
     "metadata": {
      "needs_background": "light"
     },
     "output_type": "display_data"
    }
   ],
   "source": [
    "show_image(resize_font_img(char_to_font_img(arabic_reshaper.reshape(\"أ\"),FONT)))"
   ]
  },
  {
   "cell_type": "code",
   "execution_count": 173,
   "metadata": {},
   "outputs": [
    {
     "name": "stdout",
     "output_type": "stream",
     "text": [
      "(36, 36)\n",
      "[0. 0. 0. ... 0. 0. 0.]\n"
     ]
    },
    {
     "data": {
      "image/png": "[encoded data removed]",
      "text/plain": [
       "<Figure size 432x288 with 1 Axes>"
      ]
     },
     "metadata": {
      "needs_background": "light"
     },
     "output_type": "display_data"
    }
   ],
   "source": [
    "show_image(char_imge)"
   ]
  },
  {
   "cell_type": "code",
   "execution_count": 174,
   "metadata": {},
   "outputs": [],
   "source": [
    "char_images = [draw_image(x,image_width, image_height, fnt ) for x in m_sentence_set]"
   ]
  },
  {
   "cell_type": "code",
   "execution_count": 175,
   "metadata": {},
   "outputs": [
    {
     "name": "stdout",
     "output_type": "stream",
     "text": [
      "(36, 36)\n",
      "[0. 0. 0. ... 0. 0. 0.]\n"
     ]
    },
    {
     "data": {
      "image/png": "[encoded data removed]",
      "text/plain": [
       "<Figure size 432x288 with 1 Axes>"
      ]
     },
     "metadata": {
      "needs_background": "light"
     },
     "output_type": "display_data"
    }
   ],
   "source": [
    "show_image(char_images[3])"
   ]
  },
  {
   "cell_type": "code",
   "execution_count": 176,
   "metadata": {},
   "outputs": [
    {
     "data": {
      "text/plain": [
       "1.0"
      ]
     },
     "execution_count": 176,
     "metadata": {},
     "output_type": "execute_result"
    }
   ],
   "source": [
    "np.max(char_imge)"
   ]
  },
  {
   "cell_type": "code",
   "execution_count": 177,
   "metadata": {},
   "outputs": [
    {
     "data": {
      "text/plain": [
       "0.0"
      ]
     },
     "execution_count": 177,
     "metadata": {},
     "output_type": "execute_result"
    }
   ],
   "source": [
    "np.min(char_imge)"
   ]
  },
  {
   "cell_type": "code",
   "execution_count": 178,
   "metadata": {},
   "outputs": [
    {
     "data": {
      "text/plain": [
       "array([0.        , 0.00784314, 0.0627451 , 0.10588235, 0.11372549,\n",
       "       0.15686275, 0.17254902, 0.21960784, 0.31372549, 0.35294118,\n",
       "       0.42352941, 0.50196078, 0.59607843, 0.61176471, 0.61960784,\n",
       "       0.65098039, 0.7372549 , 0.80392157, 0.8627451 , 0.98823529,\n",
       "       1.        ])"
      ]
     },
     "execution_count": 178,
     "metadata": {},
     "output_type": "execute_result"
    }
   ],
   "source": [
    "np.unique(char_imge)"
   ]
  },
  {
   "cell_type": "code",
   "execution_count": 179,
   "metadata": {},
   "outputs": [],
   "source": [
    "img_tensors = torch.stack([torch.cuda.FloatTensor(np.asarray(char_images, dtype=np.float32))])"
   ]
  },
  {
   "cell_type": "code",
   "execution_count": 180,
   "metadata": {},
   "outputs": [
    {
     "data": {
      "text/plain": [
       "torch.Size([1, 108, 36, 36])"
      ]
     },
     "execution_count": 180,
     "metadata": {},
     "output_type": "execute_result"
    }
   ],
   "source": [
    "img_tensors.shape"
   ]
  },
  {
   "cell_type": "code",
   "execution_count": 181,
   "metadata": {},
   "outputs": [],
   "source": [
    "encoded_images = model.module.encoder(img_tensors)"
   ]
  },
  {
   "cell_type": "code",
   "execution_count": 182,
   "metadata": {},
   "outputs": [
    {
     "data": {
      "text/plain": [
       "torch.Size([1, 128, 108])"
      ]
     },
     "execution_count": 182,
     "metadata": {},
     "output_type": "execute_result"
    }
   ],
   "source": [
    "encoded_images.shape"
   ]
  },
  {
   "cell_type": "code",
   "execution_count": 183,
   "metadata": {},
   "outputs": [
    {
     "data": {
      "text/plain": [
       "tensor([[[0.0606, 0.0430, 0.0000,  ..., 0.0000, 0.0601, 0.1038],\n",
       "         [0.0263, 0.0000, 0.0000,  ..., 0.0000, 0.0829, 0.0430],\n",
       "         [0.0214, 0.1342, 0.0450,  ..., 0.0000, 0.0666, 0.0456],\n",
       "         ...,\n",
       "         [0.1434, 0.1432, 0.0000,  ..., 0.0325, 0.0000, 0.0660],\n",
       "         [0.1189, 0.0000, 0.0000,  ..., 0.0174, 0.0044, 0.0000],\n",
       "         [0.0000, 0.1639, 0.0148,  ..., 0.0000, 0.0076, 0.0000]]],\n",
       "       device='cuda:0', grad_fn=<ViewBackward>)"
      ]
     },
     "execution_count": 183,
     "metadata": {},
     "output_type": "execute_result"
    }
   ],
   "source": [
    "encoded_images"
   ]
  },
  {
   "cell_type": "code",
   "execution_count": 184,
   "metadata": {},
   "outputs": [],
   "source": [
    "encoded_images = np.reshape(encoded_images.cpu().detach().numpy(), (encoded_images.shape[-1], encoded_images.shape[-2]))\n"
   ]
  },
  {
   "cell_type": "code",
   "execution_count": 185,
   "metadata": {},
   "outputs": [
    {
     "data": {
      "text/plain": [
       "(108, 128)"
      ]
     },
     "execution_count": 185,
     "metadata": {},
     "output_type": "execute_result"
    }
   ],
   "source": [
    "encoded_images.shape"
   ]
  },
  {
   "cell_type": "code",
   "execution_count": 190,
   "metadata": {},
   "outputs": [
    {
     "data": {
      "text/plain": [
       "NearestNeighbors(algorithm='auto', leaf_size=30, metric='minkowski',\n",
       "         metric_params=None, n_jobs=4, n_neighbors=4, p=2, radius=1.0)"
      ]
     },
     "execution_count": 190,
     "metadata": {},
     "output_type": "execute_result"
    }
   ],
   "source": [
    "knn = NearestNeighbors(n_neighbors=4, n_jobs=4)\n",
    "knn.fit(encoded_images)\n"
   ]
  },
  {
   "cell_type": "code",
   "execution_count": 191,
   "metadata": {},
   "outputs": [],
   "source": [
    "dist, indices = knn.kneighbors(encoded_images)\n"
   ]
  },
  {
   "cell_type": "code",
   "execution_count": 192,
   "metadata": {},
   "outputs": [],
   "source": [
    "characters = list(m_sentence_set)"
   ]
  },
  {
   "cell_type": "code",
   "execution_count": 200,
   "metadata": {},
   "outputs": [
    {
     "name": "stdout",
     "output_type": "stream",
     "text": [
      "[('ﺪ', 0.0),\n",
      " ('ﺩ', 0.03312777796675393),\n",
      " ('ﺫ', 0.03800257889383024),\n",
      " ('ﺬ', 0.03931428337775784)]\n"
     ]
    }
   ],
   "source": [
    "target_character = 'ﺪ'\n",
    "neighbors = [(characters[idx], dist[characters.index(target_character)][i]) for i, idx in enumerate(indices[characters.index(target_character)])]\n",
    "pprint(neighbors)\n"
   ]
  },
  {
   "cell_type": "code",
   "execution_count": 216,
   "metadata": {},
   "outputs": [
    {
     "data": {
      "text/plain": [
       "108"
      ]
     },
     "execution_count": 216,
     "metadata": {},
     "output_type": "execute_result"
    }
   ],
   "source": [
    "len(tsne_chars)"
   ]
  },
  {
   "cell_type": "code",
   "execution_count": 204,
   "metadata": {},
   "outputs": [],
   "source": [
    "tsne = TSNE(n_components=2, random_state=114514)\n",
    "tsne_chars = tsne.fit_transform(encoded_images)\n"
   ]
  },
  {
   "cell_type": "code",
   "execution_count": 229,
   "metadata": {},
   "outputs": [
    {
     "data": {
      "image/png": "[encoded data removed]",
      "text/plain": [
       "<Figure size 2160x720 with 1 Axes>"
      ]
     },
     "metadata": {
      "needs_background": "light"
     },
     "output_type": "display_data"
    }
   ],
   "source": [
    "fig = plt.figure(figsize=(30, 10))\n",
    "ax = fig.add_subplot(1, 1, 1)\n",
    "\n",
    "for convert_char, (x, y) in zip(char_images, tsne_chars):\n",
    "    im = OffsetImage(convert_char, zoom=1.5, cmap=\"gray\")\n",
    "    ab = AnnotationBbox(im, (x, y), xycoords=\"data\", frameon=False)\n",
    "    ax.add_artist(ab)\n",
    "    x, y = np.atleast_1d(x, y)\n",
    "    ax.update_datalim(np.column_stack([x, y]))\n",
    "ax.autoscale()\n",
    "\n",
    "plt.savefig(\"test.png\")\n"
   ]
  },
  {
   "cell_type": "code",
   "execution_count": null,
   "metadata": {},
   "outputs": [],
   "source": []
  }
 ],
 "metadata": {
  "kernelspec": {
   "display_name": "Python 3",
   "language": "python",
   "name": "python3"
  },
  "language_info": {
   "codemirror_mode": {
    "name": "ipython",
    "version": 3
   },
   "file_extension": ".py",
   "mimetype": "text/x-python",
   "name": "python",
   "nbconvert_exporter": "python",
   "pygments_lexer": "ipython3",
   "version": "3.7.3"
  }
 },
 "nbformat": 4,
 "nbformat_minor": 2
}
